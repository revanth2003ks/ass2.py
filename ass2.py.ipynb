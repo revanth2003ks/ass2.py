{
 "cells": [
  {
   "cell_type": "code",
   "execution_count": 1,
   "id": "5ee63e27",
   "metadata": {},
   "outputs": [],
   "source": [
    "#Q1"
   ]
  },
  {
   "cell_type": "code",
   "execution_count": 2,
   "id": "5bd9500b",
   "metadata": {},
   "outputs": [],
   "source": [
    "# we can comment code in python using # symbol\n"
   ]
  },
  {
   "cell_type": "code",
   "execution_count": 3,
   "id": "6777c0d1",
   "metadata": {},
   "outputs": [],
   "source": [
    "#Q2"
   ]
  },
  {
   "cell_type": "code",
   "execution_count": 5,
   "id": "883bb346",
   "metadata": {},
   "outputs": [
    {
     "name": "stdout",
     "output_type": "stream",
     "text": [
      "9\n"
     ]
    }
   ],
   "source": [
    "# variables are the one whose values changes after execution of the programe\n",
    "a=5 #declarition and assigning a value\n",
    "b=4\n",
    "c=a+b\n",
    "print(c)"
   ]
  },
  {
   "cell_type": "code",
   "execution_count": 7,
   "id": "12443b13",
   "metadata": {},
   "outputs": [
    {
     "data": {
      "text/plain": [
       "2"
      ]
     },
     "execution_count": 7,
     "metadata": {},
     "output_type": "execute_result"
    }
   ],
   "source": [
    "#Q3 by using an data types like int,float,str\n",
    "a=2.345 # here a is float\n",
    "int(a) # using int we convert float into int"
   ]
  },
  {
   "cell_type": "code",
   "execution_count": 10,
   "id": "83bbd229",
   "metadata": {},
   "outputs": [
    {
     "data": {
      "text/plain": [
       "[2, 3]"
      ]
     },
     "execution_count": 10,
     "metadata": {},
     "output_type": "execute_result"
    }
   ],
   "source": [
    "#Q5\n",
    "my_list=[1,2,3,4,5]\n",
    "my_list[1:3]\n"
   ]
  },
  {
   "cell_type": "code",
   "execution_count": 11,
   "id": "76cbbedb",
   "metadata": {},
   "outputs": [],
   "source": [
    "#Q6\n",
    "# complex number is an element of a number system that extends the real numbers with a specific element denoted i\n",
    "# ex: 2+i6"
   ]
  },
  {
   "cell_type": "code",
   "execution_count": 12,
   "id": "7de02913",
   "metadata": {},
   "outputs": [
    {
     "name": "stdout",
     "output_type": "stream",
     "text": [
      "enter the age\n",
      "25\n"
     ]
    }
   ],
   "source": [
    "#Q7\n",
    "age=int(input(\"enter the age\\n\"))"
   ]
  },
  {
   "cell_type": "code",
   "execution_count": 13,
   "id": "2b6d97c5",
   "metadata": {},
   "outputs": [
    {
     "data": {
      "text/plain": [
       "25"
      ]
     },
     "execution_count": 13,
     "metadata": {},
     "output_type": "execute_result"
    }
   ],
   "source": [
    "age"
   ]
  },
  {
   "cell_type": "code",
   "execution_count": 16,
   "id": "e31ae491",
   "metadata": {},
   "outputs": [],
   "source": [
    "#q8\n",
    "price=9.99"
   ]
  },
  {
   "cell_type": "code",
   "execution_count": 17,
   "id": "d5c5be1f",
   "metadata": {},
   "outputs": [
    {
     "data": {
      "text/plain": [
       "float"
      ]
     },
     "execution_count": 17,
     "metadata": {},
     "output_type": "execute_result"
    }
   ],
   "source": [
    "type(price)"
   ]
  },
  {
   "cell_type": "code",
   "execution_count": 18,
   "id": "d617f798",
   "metadata": {},
   "outputs": [],
   "source": [
    "#Q9\n",
    "name='ravi'\n"
   ]
  },
  {
   "cell_type": "code",
   "execution_count": 19,
   "id": "6bb734ee",
   "metadata": {},
   "outputs": [
    {
     "data": {
      "text/plain": [
       "'ravi'"
      ]
     },
     "execution_count": 19,
     "metadata": {},
     "output_type": "execute_result"
    }
   ],
   "source": [
    "name"
   ]
  },
  {
   "cell_type": "code",
   "execution_count": 20,
   "id": "fc87bafd",
   "metadata": {},
   "outputs": [
    {
     "data": {
      "text/plain": [
       "'world'"
      ]
     },
     "execution_count": 20,
     "metadata": {},
     "output_type": "execute_result"
    }
   ],
   "source": [
    "#Q10\n",
    "a=\"hello,world!\"\n",
    "a[6:11]"
   ]
  },
  {
   "cell_type": "code",
   "execution_count": 23,
   "id": "27fb3072",
   "metadata": {},
   "outputs": [],
   "source": [
    "is_student=True"
   ]
  },
  {
   "cell_type": "code",
   "execution_count": 24,
   "id": "ea0af2b0",
   "metadata": {},
   "outputs": [
    {
     "data": {
      "text/plain": [
       "True"
      ]
     },
     "execution_count": 24,
     "metadata": {},
     "output_type": "execute_result"
    }
   ],
   "source": [
    "is_student"
   ]
  },
  {
   "cell_type": "code",
   "execution_count": null,
   "id": "1ef384c6",
   "metadata": {},
   "outputs": [],
   "source": []
  }
 ],
 "metadata": {
  "kernelspec": {
   "display_name": "Python 3 (ipykernel)",
   "language": "python",
   "name": "python3"
  },
  "language_info": {
   "codemirror_mode": {
    "name": "ipython",
    "version": 3
   },
   "file_extension": ".py",
   "mimetype": "text/x-python",
   "name": "python",
   "nbconvert_exporter": "python",
   "pygments_lexer": "ipython3",
   "version": "3.9.13"
  }
 },
 "nbformat": 4,
 "nbformat_minor": 5
}
